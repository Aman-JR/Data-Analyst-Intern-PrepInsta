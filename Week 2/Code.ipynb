{
 "cells": [
  {
   "cell_type": "markdown",
   "metadata": {},
   "source": [
    "#### IMPLEMENTATION OF THE FROG JUMP GAME USING PYTHON"
   ]
  },
  {
   "cell_type": "code",
   "execution_count": 5,
   "metadata": {},
   "outputs": [
    {
     "name": "stdout",
     "output_type": "stream",
     "text": [
      "###### ONLY ENTER THE INTEGER VALUES AND LESS THAN 6 AND GREATER THAN -1 ######\n",
      "[ 0 ,  1 ,  2 ,  3 ,  4 ,  5 ,  6 ]\n",
      "['G', 'G', 'G', '-', 'B', 'B', 'B']\n",
      "YOU LOSE!!\n"
     ]
    }
   ],
   "source": [
    "Positions = list(['G','G','G','-','B','B','B'])\n",
    "print(\"###### ONLY ENTER THE INTEGER VALUES AND LESS THAN 6 AND GREATER THAN -1 ######\")\n",
    "print(\"[ 0 ,  1 ,  2 ,  3 ,  4 ,  5 ,  6 ]\")\n",
    "print(Positions)\n",
    "\n",
    "# Looping with the frogs positions\n",
    "while True:\n",
    "    # Taking the input\n",
    "    pos = input(\"Press q to quit else \\nEnter position of piece:\")\n",
    "    if pos == 'q' or pos == 'Q':\n",
    "        print(\"YOU LOSE!!\")\n",
    "        break\n",
    "    pos = int(pos)\n",
    "\n",
    "    # Checking the value entered are valid or not\n",
    "    if pos< 0 or pos > 6:\n",
    "        print(\"Invalid move\")\n",
    "        continue\n",
    "    if Positions[pos] == '-':\n",
    "        print(\"Invalid move\")\n",
    "        continue\n",
    "\n",
    "    # To check the valid move for the Green Frog\n",
    "    if Positions[pos] == 'G':\n",
    "        if (pos + 1) <= 6 and Positions[pos + 1] == '-':\n",
    "            pass\n",
    "        elif (pos + 2) <= 6 and Positions[pos + 2] == '-' and Positions[pos + 1] == 'B':\n",
    "            pass\n",
    "        else:\n",
    "            print(\"Invalid move\")\n",
    "            break\n",
    "\n",
    "    # To check the valid move for Black Frog\n",
    "    if Positions[pos] == 'B':\n",
    "        if (pos - 1) >= 0 and Positions[pos - 1] == '-':\n",
    "            pass\n",
    "        elif (pos - 2) >= 0 and Positions[pos - 2] == '-' and Positions[pos - 1] == 'G':\n",
    "            pass\n",
    "        else:\n",
    "            print(\"Invalid move\")\n",
    "\n",
    "    # Checking the valid move of Green Frog\n",
    "    pos2 = 0\n",
    "    if Positions[pos] == 'G':\n",
    "        if Positions[pos + 1] == '-':\n",
    "            pos2 = (pos+1)\n",
    "        elif Positions[pos + 2] == '-':\n",
    "            pos2 = (pos+2)\n",
    "    if Positions[pos] == 'B':\n",
    "        if Positions[pos - 1] == '-':\n",
    "            pos2 = (pos-1)\n",
    "        elif Positions[pos - 2] == '-':\n",
    "            pos2 = (pos-2)\n",
    "\n",
    "    # Swapping the position of frogs\n",
    "    Positions[pos], Positions[pos2] = Positions[pos2], Positions[pos]\n",
    "\n",
    "    # Printing the current Position\n",
    "    print(\"[ 0 ,  1 ,  2 ,  3 ,  4 ,  5 ,  6 ]\")\n",
    "    print(Positions)\n",
    "\n",
    "    # TO check the positions of Frogs to win\n",
    "    if Positions == ['B','B','B','-','G','G','G']:\n",
    "        print(\"YOU WIN\")\n",
    "        break"
   ]
  }
 ],
 "metadata": {
  "kernelspec": {
   "display_name": "Python 3",
   "language": "python",
   "name": "python3"
  },
  "language_info": {
   "codemirror_mode": {
    "name": "ipython",
    "version": 3
   },
   "file_extension": ".py",
   "mimetype": "text/x-python",
   "name": "python",
   "nbconvert_exporter": "python",
   "pygments_lexer": "ipython3",
   "version": "3.11.7"
  }
 },
 "nbformat": 4,
 "nbformat_minor": 2
}
